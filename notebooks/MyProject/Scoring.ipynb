{
 "cells": [
  {
   "cell_type": "code",
   "execution_count": 0,
   "metadata": {
    "application/vnd.databricks.v1+cell": {
     "cellMetadata": {
      "byteLimit": 2048000,
      "rowLimit": 10000
     },
     "inputWidgets": {},
     "nuid": "ed979300-042b-45f8-b5ec-b537e8ff7518",
     "showTitle": false,
     "title": ""
    }
   },
   "outputs": [],
   "source": [
    "dbutils.widgets.dropdown(\"Model Stage\", \"None\", [\"Production\", \"Staging\",\"None\"])"
   ]
  },
  {
   "cell_type": "code",
   "execution_count": 0,
   "metadata": {
    "application/vnd.databricks.v1+cell": {
     "cellMetadata": {
      "byteLimit": 2048000,
      "rowLimit": 10000
     },
     "inputWidgets": {},
     "nuid": "5fca36a1-55fa-495d-8b31-c21ab5e874a3",
     "showTitle": false,
     "title": ""
    }
   },
   "outputs": [],
   "source": [
    "import mlflow\n",
    "\n",
    "registry_uri = f'databricks://modelregistery:modelregistery'\n",
    "mlflow.set_registry_uri(registry_uri)\n",
    "\n",
    "model_name = \"power-forecasting-model\"\n",
    "run_id='c9830cb0281842eb85cbb0dd9c14d896'\n",
    "# The default path where the MLflow autologging function stores the model\n",
    "artifact_path = \"model\"\n",
    "model_uri = \"runs:/{run_id}/{artifact_path}\".format(run_id=run_id, artifact_path=artifact_path)\n",
    "\n",
    "model_production_uri = \"models:/{model_name}/{model_stage}\".format(model_name=model_name,model_stage=dbutils.widgets.get(\"Model Stage\"))\n",
    "\n",
    "\n",
    "def plot(model_name, model_stage, model_version, power_predictions, past_power_output):\n",
    "  import pandas as pd\n",
    "  import matplotlib.dates as mdates\n",
    "  from matplotlib import pyplot as plt\n",
    "  index = power_predictions.index\n",
    "  fig = plt.figure(figsize=(11, 7))\n",
    "  ax = fig.add_subplot(111)\n",
    "  ax.set_xlabel(\"Date\", size=20, labelpad=20)\n",
    "  ax.set_ylabel(\"Power\\noutput\\n(MW)\", size=20, labelpad=60, rotation=0)\n",
    "  ax.tick_params(axis='both', which='major', labelsize=17)\n",
    "  ax.xaxis.set_major_formatter(mdates.DateFormatter('%m/%d'))\n",
    "  ax.plot(index[:len(past_power_output)], past_power_output, label=\"True\", color=\"red\", alpha=0.5, linewidth=4)\n",
    "  ax.plot(index, power_predictions.squeeze(), \"--\", label=\"Predicted by '%s'\\nin stage '%s' (Version %d)\" % (model_name, model_stage, model_version), color=\"blue\", linewidth=3)\n",
    "  ax.set_ylim(ymin=0, ymax=max(3500, int(max(power_predictions.values) * 1.3)))\n",
    "  ax.legend(fontsize=14)\n",
    "  plt.title(\"Wind farm power output and projections\", size=24, pad=20)\n",
    "  plt.tight_layout()\n",
    "  display(plt.show())\n",
    "  \n",
    "def forecast_power(model_name, model_stage):\n",
    "  from mlflow.tracking.client import MlflowClient\n",
    "  client = MlflowClient()\n",
    "  model_version = client.get_latest_versions(model_name, stages=[model_stage])[0].version\n",
    "  model_uri = \"models:/{model_name}/{model_stage}\".format(model_name=model_name, model_stage=model_stage)\n",
    "  model = mlflow.pyfunc.load_model(model_uri)\n",
    "  weather_data, past_power_output = get_weather_and_forecast()\n",
    "  power_predictions = pd.DataFrame(model.predict(weather_data))\n",
    "  power_predictions.index = pd.to_datetime(weather_data.index)\n",
    "  print(power_predictions)\n",
    "  plot(model_name, model_stage, int(model_version), power_predictions, past_power_output)"
   ]
  },
  {
   "cell_type": "code",
   "execution_count": 0,
   "metadata": {
    "application/vnd.databricks.v1+cell": {
     "cellMetadata": {
      "byteLimit": 2048000,
      "rowLimit": 10000
     },
     "inputWidgets": {},
     "nuid": "79319e8c-47c6-4ac6-8be6-588a1ede60f0",
     "showTitle": false,
     "title": ""
    }
   },
   "outputs": [],
   "source": [
    "import pandas as pd\n",
    "\n",
    "wind_farm_data = pd.read_csv(\"https://github.com/dbczumar/model-registry-demo-notebook/raw/master/dataset/windfarm_data.csv\", index_col=0)\n",
    "def get_weather_and_forecast():\n",
    "  format_date = lambda pd_date : pd_date.date().strftime(\"%Y-%m-%d\")\n",
    "  today = pd.Timestamp('today').normalize()\n",
    "  week_ago = today - pd.Timedelta(days=5)\n",
    "  week_later = today + pd.Timedelta(days=5)\n",
    "  \n",
    "  past_power_output = pd.DataFrame(wind_farm_data)[format_date(week_ago):format_date(today)]\n",
    "  weather_and_forecast = pd.DataFrame(wind_farm_data)[format_date(week_ago):format_date(week_later)]\n",
    "  if len(weather_and_forecast) < 10:\n",
    "    past_power_output = pd.DataFrame(wind_farm_data).iloc[-10:-5]\n",
    "    weather_and_forecast = pd.DataFrame(wind_farm_data).iloc[-10:]\n",
    "\n",
    "  return weather_and_forecast.drop(columns=\"power\"), past_power_output[\"power\"]\n",
    "\n",
    "forecast_power(model_name, dbutils.widgets.get(\"Model Stage\"))"
   ]
  },
  {
   "cell_type": "code",
   "execution_count": 0,
   "metadata": {
    "application/vnd.databricks.v1+cell": {
     "cellMetadata": {},
     "inputWidgets": {},
     "nuid": "81ecf165-c67a-4ae0-bc58-880819b1c783",
     "showTitle": false,
     "title": ""
    }
   },
   "outputs": [],
   "source": []
  }
 ],
 "metadata": {
  "application/vnd.databricks.v1+notebook": {
   "dashboards": [],
   "environmentMetadata": null,
   "language": "python",
   "notebookMetadata": {
    "pythonIndentUnit": 4
   },
   "notebookName": "Scoring",
   "widgets": {
    "Model Stage": {
     "currentValue": "None",
     "nuid": "1d7cdd6f-690c-48ab-babf-6e1518f636bb",
     "typedWidgetInfo": null,
     "widgetInfo": {
      "widgetType": "dropdown",
      "defaultValue": "None",
      "label": null,
      "name": "Model Stage",
      "options": {
       "widgetType": "dropdown",
       "autoCreated": null,
       "choices": [
        "Production",
        "Staging",
        "None"
       ]
      }
     }
    }
   }
  }
 },
 "nbformat": 4,
 "nbformat_minor": 0
}
